{
 "cells": [
  {
   "cell_type": "markdown",
   "metadata": {},
   "source": [
    "###Experimenting with creating and using classes\n",
    "Would a class for 'chambers' be useful for Stronts?"
   ]
  },
  {
   "cell_type": "code",
   "execution_count": 1,
   "metadata": {
    "collapsed": true
   },
   "outputs": [],
   "source": [
    "#An example of a class\n",
    "class Shape:\n",
    "\n",
    "    def __init__(self, x, y): #this will be where chambers are defined\n",
    "        self.x = x\n",
    "        self.y = y\n",
    "        self.description = \"This shape has not been described yet\"\n",
    "        self.author = \"Nobody has claimed to make this shape yet\"\n",
    "\n",
    "    def area(self): #calculate the decay factor from the ref date in the init function\n",
    "        return self.x * self.y\n",
    "\n",
    "    def perimeter(self):\n",
    "        return 2 * self.x + 2 * self.y\n",
    "\n",
    "    def describe(self, text):\n",
    "        self.description = text\n",
    "\n",
    "    def authorName(self, text):\n",
    "        self.author = text\n",
    "\n",
    "    def scaleSize(self, scale):\n",
    "        self.x = self.x * scale\n",
    "        self.y = self.y * scale"
   ]
  },
  {
   "cell_type": "code",
   "execution_count": 2,
   "metadata": {
    "collapsed": true
   },
   "outputs": [],
   "source": [
    "rectangle = Shape(100, 45)"
   ]
  },
  {
   "cell_type": "code",
   "execution_count": 49,
   "metadata": {
    "collapsed": false
   },
   "outputs": [
    {
     "name": "stdout",
     "output_type": "stream",
     "text": [
      "2016-02-12 15:56:48.579910\n"
     ]
    }
   ],
   "source": [
    "import datetime as dt # for calcualting difference betwen ref_date and todays date\n",
    "todays_date = dt.datetime.today()\n",
    "print(todays_date)"
   ]
  },
  {
   "cell_type": "code",
   "execution_count": 89,
   "metadata": {
    "collapsed": true
   },
   "outputs": [],
   "source": [
    "class chamber:\n",
    "\n",
    "    def __init__(self, name, ch_type, ref_date, ref_dose, today): #this will be where chambers are defined\n",
    "        self.name = name # e.g. Farmer1\n",
    "        self.ch_type = ch_type # e.g. 2611\n",
    "        self.description = \"General Description of things...\"\n",
    "        self.ref_date = ref_date\n",
    "        self.ref_dose = ref_dose\n",
    "        self.today = today\n",
    "\n",
    "\n",
    "    def decay_factor(self):\n",
    "        days_dif = (self.today - self.ref_date).days\n",
    "        decay_fact = days_dif * 3\n",
    "        return days_dif, decay_fact\n",
    "    \n",
    "    def test_multiply(self):\n",
    "        return self.ref_date * 3"
   ]
  },
  {
   "cell_type": "code",
   "execution_count": 90,
   "metadata": {
    "collapsed": false
   },
   "outputs": [],
   "source": [
    "f1 = chamber(\"Farmer1\",\"Farmer\", dt.datetime.strptime('12/2/2015', '%d/%m/%Y'),10,todays_date)"
   ]
  },
  {
   "cell_type": "code",
   "execution_count": 99,
   "metadata": {
    "collapsed": false
   },
   "outputs": [
    {
     "data": {
      "text/plain": [
       "(365, 1095)"
      ]
     },
     "execution_count": 99,
     "metadata": {},
     "output_type": "execute_result"
    }
   ],
   "source": [
    "f1.decay_factor()#[1]"
   ]
  },
  {
   "cell_type": "code",
   "execution_count": null,
   "metadata": {
    "collapsed": true
   },
   "outputs": [],
   "source": []
  }
 ],
 "metadata": {
  "kernelspec": {
   "display_name": "Python 3",
   "language": "python",
   "name": "python3"
  },
  "language_info": {
   "codemirror_mode": {
    "name": "ipython",
    "version": 3
   },
   "file_extension": ".py",
   "mimetype": "text/x-python",
   "name": "python",
   "nbconvert_exporter": "python",
   "pygments_lexer": "ipython3",
   "version": "3.4.3"
  }
 },
 "nbformat": 4,
 "nbformat_minor": 0
}
